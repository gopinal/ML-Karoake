{
 "cells": [
  {
   "cell_type": "code",
   "execution_count": null,
   "metadata": {},
   "outputs": [],
   "source": [
    "###How to use this script###\n",
    "\n",
    "#You need spectrogram.py to use this script. For the variable DIR, you will specify the directory where your #music files are.\n",
    "#The end product of the script is a text file containing an array/matrix [X Y] of unrolled STFTs of 500ms segments of these songs. "
   ]
  },
  {
   "cell_type": "code",
   "execution_count": 2,
   "metadata": {},
   "outputs": [],
   "source": [
    "from spectrogram import Spectrogram #Importing the class Tuan made. You should have spectrogram.py in the same\n",
    "                                                                                    #directory as this script"
   ]
  },
  {
   "cell_type": "code",
   "execution_count": 3,
   "metadata": {},
   "outputs": [],
   "source": [
    "#Python3 code to read multiple file names in a directory or folder to write \n",
    "#References: https://stackoverflow.com/questions/2632205/how-to-count-the-number-of-files-in-a-directory-using-python\n",
    "#https://www.geeksforgeeks.org/rename-multiple-files-using-python/\n",
    "\n",
    "# importing os module \n",
    "import os, os.path\n",
    "\n",
    "DIR = \"C:/Users/.../musdb18/test/Instrumental Versions\" #The directory where your songs are stored\n",
    "os.chdir(DIR) #Sets working directory to where song files are; this is so we can load them and write the dataset file in there\n",
    "\n",
    "#The line below makes a list of all the filenames in the specified directory, while excluding names of subdirectories/folders\n",
    "filename_list = [name for name in os.listdir('.') if os.path.isfile(name)]\n",
    "\n"
   ]
  },
  {
   "cell_type": "code",
   "execution_count": 4,
   "metadata": {},
   "outputs": [
    {
     "name": "stdout",
     "output_type": "stream",
     "text": [
      "We're processing songs from:C:/Users/numbe/Documents/Academics/Coursework/CS 129 - Machine Learning/Final Project/musdb18/test/Instrumental Versions\n",
      "AM Contra - Heart Peripheral.stem.wav\n"
     ]
    },
    {
     "name": "stderr",
     "output_type": "stream",
     "text": [
      "C:\\Users\\numbe\\Anaconda3\\testingspectrogram\\spectrogram.py:63: ComplexWarning: Casting complex values to real discards the imaginary part\n",
      "  spec_exmpl_array[i, :] = self.spec.ravel()  # Unrolls spectrogram of example and puts it into array\n"
     ]
    },
    {
     "name": "stdout",
     "output_type": "stream",
     "text": [
      "Angels In Amplifiers - I'm Alright.stem.wav\n",
      "Arise - Run Run Run.stem.wav\n",
      "Ben Carrigan - We'll Talk About It All Tonight.stem.wav\n",
      "BKS - Bulldozer.stem.wav\n",
      "BKS - Too Much.stem.wav\n",
      "Bobby Nobody - Stitch Up.stem.wav\n",
      "Buitraker - Revo X.stem.wav\n",
      "Carlos Gonzalez - A Place For Us.stem.wav\n",
      "Cristina Vane - So Easy.stem.wav\n",
      "Detsky Sad - Walkie Talkie.stem.wav\n",
      "Enda Reilly - Cur An Long Ag Seol.stem.wav\n",
      "Forkupines - Semantics.stem.wav\n",
      "Georgia Wonder - Siren.stem.wav\n",
      "Girls Under Glass - We Feel Alright.stem.wav\n",
      "Hollow Ground - Ill Fate.stem.wav\n",
      "James Elder & Mark M Thompson - The English Actor.stem.wav\n",
      "Juliet's Rescue - Heartbeats.stem.wav\n",
      "Little Chicago's Finest - My Own.stem.wav\n",
      "Louis Cressy Band - Good Time.stem.wav\n",
      "Lyndsey Ollard - Catching Up.stem.wav\n",
      "M.E.R.C. Music - Knockout.stem.wav\n",
      "Moosmusic - Big Dummy Shake.stem.wav\n",
      "Motor Tapes - Shore.stem.wav\n",
      "Mu - Too Bright.stem.wav\n",
      "Nerve 9 - Pray For The Rain.stem.wav\n",
      "PR - Happy Daze.stem.wav\n",
      "PR - Oh No.stem.wav\n",
      "Punkdisco - Oral Hygiene.stem.wav\n",
      "Raft Monk - Tiring.stem.wav\n",
      "Sambasevam Shanmugam - Kaathaadi.stem.wav\n",
      "Secretariat - Borderline.stem.wav\n",
      "Secretariat - Over The Top.stem.wav\n",
      "Side Effects Project - Sing With Me.stem.wav\n",
      "Signe Jakobsen - What Have You Done To Me.stem.wav\n",
      "Skelpolu - Resurrection.stem.wav\n",
      "Speak Softly - Broken Man.stem.wav\n",
      "Speak Softly - Like Horses.stem.wav\n",
      "The Doppler Shift - Atrophy.stem.wav\n",
      "The Easton Ellises (Baumi) - SDRNR.stem.wav\n",
      "The Easton Ellises - Falcon 69.stem.wav\n",
      "The Long Wait - Dark Horses.stem.wav\n",
      "The Mountaineering Club - Mallory.stem.wav\n",
      "The Sunshine Garcia Band - For I Am The Moon.stem.wav\n",
      "Timboz - Pony.stem.wav\n",
      "Tom McKenzie - Directions.stem.wav\n",
      "Triviul feat. The Fiend - Widow.stem.wav\n",
      "We Fell From The Sky - Not You.stem.wav\n",
      "Zeno - Signs.stem.wav\n"
     ]
    }
   ],
   "source": [
    "print('Processing songs from:'+DIR)\n",
    "os.chdir(DIR)\n",
    "\n",
    "for i in range(1,len(filename_list)):\n",
    "        filename = filename_list[i]; #Iterates through each file name in the list\n",
    "        print(filename)\n",
    "        contains_vocals = 0; #If the songs are instrumental/karaoke, it should be 0; if it has vocals, value should be 1\n",
    "        Spectrogram(filename,0) #Calling the Spectrogram class. This is what creates/updates our dataset textfile"
   ]
  },
  {
   "cell_type": "code",
   "execution_count": 5,
   "metadata": {},
   "outputs": [
    {
     "data": {
      "text/plain": [
       "['Al James - Schoolboy Facination.stem.wav',\n",
       " 'AM Contra - Heart Peripheral.stem.wav',\n",
       " \"Angels In Amplifiers - I'm Alright.stem.wav\",\n",
       " 'Arise - Run Run Run.stem.wav',\n",
       " \"Ben Carrigan - We'll Talk About It All Tonight.stem.wav\",\n",
       " 'BKS - Bulldozer.stem.wav',\n",
       " 'BKS - Too Much.stem.wav',\n",
       " 'Bobby Nobody - Stitch Up.stem.wav',\n",
       " 'Buitraker - Revo X.stem.wav',\n",
       " 'Carlos Gonzalez - A Place For Us.stem.wav',\n",
       " 'Cristina Vane - So Easy.stem.wav',\n",
       " 'Detsky Sad - Walkie Talkie.stem.wav',\n",
       " 'Enda Reilly - Cur An Long Ag Seol.stem.wav',\n",
       " 'Forkupines - Semantics.stem.wav',\n",
       " 'Georgia Wonder - Siren.stem.wav',\n",
       " 'Girls Under Glass - We Feel Alright.stem.wav',\n",
       " 'Hollow Ground - Ill Fate.stem.wav',\n",
       " 'James Elder & Mark M Thompson - The English Actor.stem.wav',\n",
       " \"Juliet's Rescue - Heartbeats.stem.wav\",\n",
       " \"Little Chicago's Finest - My Own.stem.wav\",\n",
       " 'Louis Cressy Band - Good Time.stem.wav',\n",
       " 'Lyndsey Ollard - Catching Up.stem.wav',\n",
       " 'M.E.R.C. Music - Knockout.stem.wav',\n",
       " 'Moosmusic - Big Dummy Shake.stem.wav',\n",
       " 'Motor Tapes - Shore.stem.wav',\n",
       " 'Mu - Too Bright.stem.wav',\n",
       " 'Nerve 9 - Pray For The Rain.stem.wav',\n",
       " 'PR - Happy Daze.stem.wav',\n",
       " 'PR - Oh No.stem.wav',\n",
       " 'Punkdisco - Oral Hygiene.stem.wav',\n",
       " 'Raft Monk - Tiring.stem.wav',\n",
       " 'Sambasevam Shanmugam - Kaathaadi.stem.wav',\n",
       " 'Secretariat - Borderline.stem.wav',\n",
       " 'Secretariat - Over The Top.stem.wav',\n",
       " 'Side Effects Project - Sing With Me.stem.wav',\n",
       " 'Signe Jakobsen - What Have You Done To Me.stem.wav',\n",
       " 'Skelpolu - Resurrection.stem.wav',\n",
       " 'Speak Softly - Broken Man.stem.wav',\n",
       " 'Speak Softly - Like Horses.stem.wav',\n",
       " 'The Doppler Shift - Atrophy.stem.wav',\n",
       " 'The Easton Ellises (Baumi) - SDRNR.stem.wav',\n",
       " 'The Easton Ellises - Falcon 69.stem.wav',\n",
       " 'The Long Wait - Dark Horses.stem.wav',\n",
       " 'The Mountaineering Club - Mallory.stem.wav',\n",
       " 'The Sunshine Garcia Band - For I Am The Moon.stem.wav',\n",
       " 'Timboz - Pony.stem.wav',\n",
       " 'Tom McKenzie - Directions.stem.wav',\n",
       " 'Triviul feat. The Fiend - Widow.stem.wav',\n",
       " 'We Fell From The Sky - Not You.stem.wav',\n",
       " 'Zeno - Signs.stem.wav']"
      ]
     },
     "execution_count": 5,
     "metadata": {},
     "output_type": "execute_result"
    }
   ],
   "source": [
    "filename_list"
   ]
  },
  {
   "cell_type": "code",
   "execution_count": null,
   "metadata": {},
   "outputs": [],
   "source": []
  }
 ],
 "metadata": {
  "kernelspec": {
   "display_name": "Python 3",
   "language": "python",
   "name": "python3"
  },
  "language_info": {
   "codemirror_mode": {
    "name": "ipython",
    "version": 3
   },
   "file_extension": ".py",
   "mimetype": "text/x-python",
   "name": "python",
   "nbconvert_exporter": "python",
   "pygments_lexer": "ipython3",
   "version": "3.6.4"
  }
 },
 "nbformat": 4,
 "nbformat_minor": 2
}
